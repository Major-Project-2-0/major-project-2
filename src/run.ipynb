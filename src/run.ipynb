{
 "cells": [
  {
   "attachments": {},
   "cell_type": "markdown",
   "metadata": {},
   "source": [
    "Importing Deepface And other modules"
   ]
  },
  {
   "cell_type": "code",
   "execution_count": 23,
   "metadata": {},
   "outputs": [],
   "source": [
    "import os\n",
    "\n",
    "from pathlib import Path\n",
    "from deepface import DeepFace\n",
    "import pandas as pd\n",
    "import cv2\n",
    "import matplotlib as plt"
   ]
  },
  {
   "attachments": {},
   "cell_type": "markdown",
   "metadata": {},
   "source": [
    "Setting some defaults, models and metrics"
   ]
  },
  {
   "cell_type": "code",
   "execution_count": 24,
   "metadata": {},
   "outputs": [],
   "source": [
    "DB_DIR = \"../res/database/\"\n",
    "\n",
    "models = [\n",
    "  \"VGG-Face\", \n",
    "  \"Facenet\", \n",
    "  \"Facenet512\", \n",
    "  \"OpenFace\", \n",
    "  \"DeepFace\", \n",
    "  \"ArcFace\", \n",
    "  \"SFace\",\n",
    "]\n",
    "\n",
    "metrics = [\"cosine\", \"euclidean\", \"euclidean_l2\"]\n",
    "\n",
    "backends = [\n",
    "  'opencv', \n",
    "  'ssd', \n",
    "  'dlib', \n",
    "  'mtcnn', \n",
    "  'retinaface', \n",
    "  'mediapipe'\n",
    "]"
   ]
  },
  {
   "cell_type": "code",
   "execution_count": 25,
   "metadata": {},
   "outputs": [],
   "source": [
    "# # deleting previous pickle files for new models\n",
    "# import os\n",
    "# test = os.listdir(DB_DIR)\n",
    "# for item in test:\n",
    "#     if item.endswith(\".pkl\"):\n",
    "#         os.remove(os.path.join(DB_DIR, item))"
   ]
  },
  {
   "attachments": {},
   "cell_type": "markdown",
   "metadata": {},
   "source": [
    "Facial Recognition"
   ]
  },
  {
   "cell_type": "code",
   "execution_count": 29,
   "metadata": {},
   "outputs": [
    {
     "name": "stdout",
     "output_type": "stream",
     "text": [
      "WARNING: Representations for images in ../res/database/ folder were previously stored in representations_deepface.pkl. If you added new instances after the creation, then please delete this file and call find function again. It will create it again.\n",
      "There are  5  representations found in  representations_deepface.pkl\n",
      "find function lasts  0.16771411895751953  seconds\n"
     ]
    },
    {
     "data": {
      "text/plain": [
       "[                       identity  source_x  source_y  source_w  source_h  \\\n",
       " 0  ../res/database//rishabh.jpg        39        64       208       208   \n",
       " 1   ../res/database//avnish.jpg        39        64       208       208   \n",
       " 2    ../res/database//harsh.jpg        39        64       208       208   \n",
       " \n",
       "    DeepFace_cosine  \n",
       " 0         0.147880  \n",
       " 1         0.166487  \n",
       " 2         0.217640  ]"
      ]
     },
     "execution_count": 29,
     "metadata": {},
     "output_type": "execute_result"
    }
   ],
   "source": [
    "TEST_IMAGE = \"C:/Users/rishabh/Pictures/official stuff/rishabh.jpg\"\n",
    "output = DeepFace.find(img_path=TEST_IMAGE, db_path=DB_DIR, model_name = models[4], distance_metric=metrics[0])\n",
    "output"
   ]
  },
  {
   "attachments": {},
   "cell_type": "markdown",
   "metadata": {},
   "source": [
    "Face Extraction and Alignment"
   ]
  },
  {
   "cell_type": "code",
   "execution_count": null,
   "metadata": {},
   "outputs": [],
   "source": [
    "face_objs = DeepFace.extract_faces(img_path = \"../../../Desktop/indian.jpg\")\n",
    "for face in face_objs:\n",
    "    cv2.imshow(\"face\",face[\"face\"])\n",
    "    cv2.waitKey(0)\n",
    "cv2.destroyAllWindows()"
   ]
  },
  {
   "cell_type": "code",
   "execution_count": null,
   "metadata": {},
   "outputs": [],
   "source": [
    "#live recognition\n",
    "DeepFace.stream(db_path=\"../res/database/\", model_name=models[4])"
   ]
  }
 ],
 "metadata": {
  "kernelspec": {
   "display_name": ".venv",
   "language": "python",
   "name": "python3"
  },
  "language_info": {
   "codemirror_mode": {
    "name": "ipython",
    "version": 3
   },
   "file_extension": ".py",
   "mimetype": "text/x-python",
   "name": "python",
   "nbconvert_exporter": "python",
   "pygments_lexer": "ipython3",
   "version": "3.11.0"
  },
  "orig_nbformat": 4,
  "vscode": {
   "interpreter": {
    "hash": "ef8ef938748ac2cbf12171a71497665c60da278a9cdef9c7810c86fd94a1e324"
   }
  }
 },
 "nbformat": 4,
 "nbformat_minor": 2
}
