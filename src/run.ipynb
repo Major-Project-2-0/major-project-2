{
 "cells": [
  {
   "attachments": {},
   "cell_type": "markdown",
   "metadata": {},
   "source": [
    "Importing Deepface And other modules"
   ]
  },
  {
   "cell_type": "code",
   "execution_count": 1,
   "metadata": {},
   "outputs": [],
   "source": [
    "import os\n",
    "from dotenv import load_dotenv\n",
    "from pathlib import Path\n",
    "from deepface import DeepFace\n",
    "import pandas as pd\n",
    "import cv2"
   ]
  },
  {
   "attachments": {},
   "cell_type": "markdown",
   "metadata": {},
   "source": [
    "Setting some defaults, models and metrics"
   ]
  },
  {
   "cell_type": "code",
   "execution_count": 2,
   "metadata": {},
   "outputs": [],
   "source": [
    "dotenv_path = Path(\"C:/Users/rishabh/Documents/majorProject2/.env\")\n",
    "load_dotenv(dotenv_path=dotenv_path)\n",
    "\n",
    "models = [\n",
    "  \"VGG-Face\", \n",
    "  \"Facenet\", \n",
    "  \"Facenet512\", \n",
    "  \"OpenFace\", \n",
    "  \"DeepFace\"\n",
    "]\n",
    "\n",
    "metrics = [\"cosine\", \"euclidean\", \"euclidean_l2\"]\n",
    "\n",
    "backends = [\n",
    "  'opencv', \n",
    "  'ssd', \n",
    "  'mtcnn', \n",
    "  'retinaface'\n",
    "]"
   ]
  },
  {
   "attachments": {},
   "cell_type": "markdown",
   "metadata": {},
   "source": [
    "Facial Recognition"
   ]
  },
  {
   "cell_type": "code",
   "execution_count": 3,
   "metadata": {},
   "outputs": [
    {
     "name": "stdout",
     "output_type": "stream",
     "text": [
      "WARNING: Representations for images in  C:\\Users\\rishabh\\Documents\\majorProject2\\res\\database  folder were previously stored in  representations_vgg_face.pkl . If you added new instances after this file creation, then please delete this file and call find function again. It will create it again.\n",
      "There are  34  representations found in  representations_vgg_face.pkl\n",
      "find function lasts  4.244970798492432  seconds\n",
      "WARNING: Representations for images in  C:\\Users\\rishabh\\Documents\\majorProject2\\res\\database  folder were previously stored in  representations_facenet.pkl . If you added new instances after this file creation, then please delete this file and call find function again. It will create it again.\n",
      "There are  34  representations found in  representations_facenet.pkl\n",
      "find function lasts  6.536468982696533  seconds\n",
      "WARNING: Representations for images in  C:\\Users\\rishabh\\Documents\\majorProject2\\res\\database  folder were previously stored in  representations_facenet512.pkl . If you added new instances after this file creation, then please delete this file and call find function again. It will create it again.\n",
      "There are  34  representations found in  representations_facenet512.pkl\n",
      "find function lasts  6.229106187820435  seconds\n",
      "WARNING: Representations for images in  C:\\Users\\rishabh\\Documents\\majorProject2\\res\\database  folder were previously stored in  representations_openface.pkl . If you added new instances after this file creation, then please delete this file and call find function again. It will create it again.\n",
      "There are  34  representations found in  representations_openface.pkl\n",
      "find function lasts  3.004446268081665  seconds\n"
     ]
    }
   ],
   "source": [
    "TEST_IMAGE = \"C:/Users/rishabh/Pictures/official stuff/rishabh.jpg\"\n",
    "output = DeepFace.find(img_path=TEST_IMAGE, db_path=os.environ.get('DB_DIR'), enforce_detection=False, model_name = models[0], distance_metric=metrics[0])\n",
    "output = DeepFace.find(img_path=TEST_IMAGE, db_path=os.environ.get('DB_DIR'), enforce_detection=False, model_name = models[1], distance_metric=metrics[0])\n",
    "output = DeepFace.find(img_path=TEST_IMAGE, db_path=os.environ.get('DB_DIR'), enforce_detection=False, model_name = models[2], distance_metric=metrics[0])\n",
    "output = DeepFace.find(img_path=TEST_IMAGE, db_path=os.environ.get('DB_DIR'), enforce_detection=False, model_name = models[3], distance_metric=metrics[0])\n",
    "# output = DeepFace.find(img_path=TEST_IMAGE, db_path=os.environ.get('DB_DIR'), enforce_detection=False, model_name = models[4], distance_metric=metrics[0])"
   ]
  },
  {
   "cell_type": "code",
   "execution_count": 4,
   "metadata": {},
   "outputs": [
    {
     "data": {
      "text/html": [
       "<div>\n",
       "<style scoped>\n",
       "    .dataframe tbody tr th:only-of-type {\n",
       "        vertical-align: middle;\n",
       "    }\n",
       "\n",
       "    .dataframe tbody tr th {\n",
       "        vertical-align: top;\n",
       "    }\n",
       "\n",
       "    .dataframe thead th {\n",
       "        text-align: right;\n",
       "    }\n",
       "</style>\n",
       "<table border=\"1\" class=\"dataframe\">\n",
       "  <thead>\n",
       "    <tr style=\"text-align: right;\">\n",
       "      <th></th>\n",
       "      <th>identity</th>\n",
       "      <th>source_x</th>\n",
       "      <th>source_y</th>\n",
       "      <th>source_w</th>\n",
       "      <th>source_h</th>\n",
       "      <th>OpenFace_cosine</th>\n",
       "    </tr>\n",
       "  </thead>\n",
       "  <tbody>\n",
       "    <tr>\n",
       "      <th>0</th>\n",
       "      <td>C:\\Users\\rishabh\\Documents\\majorProject2\\res\\d...</td>\n",
       "      <td>39</td>\n",
       "      <td>64</td>\n",
       "      <td>208</td>\n",
       "      <td>208</td>\n",
       "      <td>0.084228</td>\n",
       "    </tr>\n",
       "  </tbody>\n",
       "</table>\n",
       "</div>"
      ],
      "text/plain": [
       "                                            identity  source_x  source_y  \\\n",
       "0  C:\\Users\\rishabh\\Documents\\majorProject2\\res\\d...        39        64   \n",
       "\n",
       "   source_w  source_h  OpenFace_cosine  \n",
       "0       208       208         0.084228  "
      ]
     },
     "execution_count": 4,
     "metadata": {},
     "output_type": "execute_result"
    }
   ],
   "source": [
    "# output is a list, so to better visualize it we convert it into a Panda DataFrame\n",
    "output = pd.DataFrame(output[0])\n",
    "output"
   ]
  },
  {
   "cell_type": "code",
   "execution_count": 5,
   "metadata": {},
   "outputs": [
    {
     "name": "stdout",
     "output_type": "stream",
     "text": [
      "e - Match Found\n"
     ]
    }
   ],
   "source": [
    "# Here we can check if match found\n",
    "if output.shape[0] > 0:\n",
    "    matched = output.iloc[0].identity\n",
    "    print(matched.split(os.environ.get('DB_DIR')+\"\\\\\")[1].split('/')[0] + \" - Match Found\")\n",
    "else:\n",
    "    print(\"No Match Found\")"
   ]
  },
  {
   "attachments": {},
   "cell_type": "markdown",
   "metadata": {},
   "source": [
    "Facial Verification"
   ]
  },
  {
   "cell_type": "code",
   "execution_count": 6,
   "metadata": {},
   "outputs": [],
   "source": [
    "result1 = DeepFace.verify(img1_path=\"../res/database/a/a1.jpg\", img2_path=\"../res/database/a/a3.jpg\", distance_metric=metrics[0])\n",
    "result2 = DeepFace.verify(img1_path=\"../res/database/b/b1.jpg\", img2_path=\"../res/database/c/c1.jpg\", distance_metric=metrics[0])\n",
    "result1 = DeepFace.verify(img1_path=\"../res/database/a/a1.jpg\", img2_path=\"../res/database/a/a3.jpg\", distance_metric=metrics[1])\n",
    "result2 = DeepFace.verify(img1_path=\"../res/database/b/b1.jpg\", img2_path=\"../res/database/c/c1.jpg\", distance_metric=metrics[1])\n",
    "result1 = DeepFace.verify(img1_path=\"../res/database/a/a1.jpg\", img2_path=\"../res/database/a/a3.jpg\", distance_metric=metrics[2])\n",
    "result2 = DeepFace.verify(img1_path=\"../res/database/b/b1.jpg\", img2_path=\"../res/database/c/c1.jpg\", distance_metric=metrics[2])"
   ]
  },
  {
   "attachments": {},
   "cell_type": "markdown",
   "metadata": {},
   "source": [
    "Now to stylize the output, we can use JSON module"
   ]
  },
  {
   "cell_type": "code",
   "execution_count": 7,
   "metadata": {},
   "outputs": [
    {
     "name": "stdout",
     "output_type": "stream",
     "text": [
      "{\n",
      "    \"verified\": false,\n",
      "    \"distance\": 1.08283819141904,\n",
      "    \"threshold\": 0.86,\n",
      "    \"model\": \"VGG-Face\",\n",
      "    \"detector_backend\": \"opencv\",\n",
      "    \"similarity_metric\": \"euclidean_l2\",\n",
      "    \"facial_areas\": {\n",
      "        \"img1\": {\n",
      "            \"x\": 62,\n",
      "            \"y\": 171,\n",
      "            \"w\": 676,\n",
      "            \"h\": 676\n",
      "        },\n",
      "        \"img2\": {\n",
      "            \"x\": 36,\n",
      "            \"y\": 178,\n",
      "            \"w\": 606,\n",
      "            \"h\": 606\n",
      "        }\n",
      "    },\n",
      "    \"time\": 1.25\n",
      "}\n",
      "{\n",
      "    \"verified\": false,\n",
      "    \"distance\": 1.0356596384965036,\n",
      "    \"threshold\": 0.86,\n",
      "    \"model\": \"VGG-Face\",\n",
      "    \"detector_backend\": \"opencv\",\n",
      "    \"similarity_metric\": \"euclidean_l2\",\n",
      "    \"facial_areas\": {\n",
      "        \"img1\": {\n",
      "            \"x\": 82,\n",
      "            \"y\": 392,\n",
      "            \"w\": 804,\n",
      "            \"h\": 804\n",
      "        },\n",
      "        \"img2\": {\n",
      "            \"x\": 91,\n",
      "            \"y\": 369,\n",
      "            \"w\": 707,\n",
      "            \"h\": 707\n",
      "        }\n",
      "    },\n",
      "    \"time\": 1.63\n",
      "}\n"
     ]
    }
   ],
   "source": [
    "import json\n",
    "f_r1 = json.dumps(result1, indent=4)\n",
    "f_r2 = json.dumps(result2, indent=4)\n",
    "print(f_r1)\n",
    "print(f_r2)"
   ]
  },
  {
   "attachments": {},
   "cell_type": "markdown",
   "metadata": {},
   "source": [
    "Face Extraction and Alignment"
   ]
  },
  {
   "cell_type": "code",
   "execution_count": 8,
   "metadata": {},
   "outputs": [],
   "source": [
    "face_objs = DeepFace.extract_faces(img_path = \"../testimg.png\", target_size = (224, 224), detector_backend = backends[1])\n",
    "# print(type(face_objs[0][\"face\"]))\n",
    "# print(len(face_objs[0][\"face\"]))\n",
    "# print(face_objs[0][\"face\"])\n",
    "cv2.imshow(\"face\",face_objs[0][\"face\"])\n",
    "cv2.waitKey(0)\n",
    "cv2.destroyAllWindows()"
   ]
  }
 ],
 "metadata": {
  "kernelspec": {
   "display_name": ".venv",
   "language": "python",
   "name": "python3"
  },
  "language_info": {
   "codemirror_mode": {
    "name": "ipython",
    "version": 3
   },
   "file_extension": ".py",
   "mimetype": "text/x-python",
   "name": "python",
   "nbconvert_exporter": "python",
   "pygments_lexer": "ipython3",
   "version": "3.11.0"
  },
  "orig_nbformat": 4,
  "vscode": {
   "interpreter": {
    "hash": "ef8ef938748ac2cbf12171a71497665c60da278a9cdef9c7810c86fd94a1e324"
   }
  }
 },
 "nbformat": 4,
 "nbformat_minor": 2
}
