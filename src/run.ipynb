{
 "cells": [
  {
   "attachments": {},
   "cell_type": "markdown",
   "metadata": {},
   "source": [
    "Importing Deepface And other modules"
   ]
  },
  {
   "cell_type": "code",
   "execution_count": 44,
   "metadata": {},
   "outputs": [],
   "source": [
    "import os\n",
    "from dotenv import load_dotenv\n",
    "from pathlib import Path\n",
    "from deepface import DeepFace\n",
    "import pandas as pd\n",
    "import cv2\n",
    "import json"
   ]
  },
  {
   "attachments": {},
   "cell_type": "markdown",
   "metadata": {},
   "source": [
    "Setting some defaults, models and metrics"
   ]
  },
  {
   "cell_type": "code",
   "execution_count": 45,
   "metadata": {},
   "outputs": [],
   "source": [
    "dotenv_path = Path(\"C:/Users/rishabh/Documents/major-project-2/.env\")\n",
    "load_dotenv(dotenv_path=dotenv_path)\n",
    "\n",
    "models = [\"Facenet512\",\n",
    "  \"VGG-Face\", \n",
    "  \"DeepFace\"\n",
    "]\n",
    "\n",
    "metrics = [\"cosine\", \"euclidean\", \"euclidean_l2\"]\n",
    "\n",
    "backends = [\n",
    "  'opencv', \n",
    "  'ssd', \n",
    "  'mtcnn', \n",
    "  'retinaface'\n",
    "]"
   ]
  },
  {
   "cell_type": "code",
   "execution_count": 46,
   "metadata": {},
   "outputs": [],
   "source": [
    "# deleting previous pickle files for new models\n",
    "import os\n",
    "\n",
    "dir_name = \"C:/Users/rishabh/Documents/major-project-2/res/database/\"\n",
    "test = os.listdir(dir_name)\n",
    "\n",
    "for item in test:\n",
    "    if item.endswith(\".pkl\"):\n",
    "        os.remove(os.path.join(dir_name, item))"
   ]
  },
  {
   "attachments": {},
   "cell_type": "markdown",
   "metadata": {},
   "source": [
    "Facial Recognition"
   ]
  },
  {
   "cell_type": "code",
   "execution_count": 47,
   "metadata": {},
   "outputs": [
    {
     "name": "stderr",
     "output_type": "stream",
     "text": [
      "Finding representations: 100%|██████████| 35/35 [00:13<00:00,  2.54it/s]\n"
     ]
    },
    {
     "name": "stdout",
     "output_type": "stream",
     "text": [
      "Representations stored in C:\\Users\\rishabh\\Documents\\major-project-2\\res\\database/representations_facenet512.pkl file.Please delete this file when you add new identities in your database.\n",
      "find function lasts  13.937960147857666  seconds\n"
     ]
    },
    {
     "name": "stderr",
     "output_type": "stream",
     "text": [
      "Finding representations: 100%|██████████| 35/35 [00:18<00:00,  1.86it/s]\n"
     ]
    },
    {
     "name": "stdout",
     "output_type": "stream",
     "text": [
      "Representations stored in C:\\Users\\rishabh\\Documents\\major-project-2\\res\\database/representations_vgg_face.pkl file.Please delete this file when you add new identities in your database.\n",
      "find function lasts  19.118621349334717  seconds\n"
     ]
    },
    {
     "name": "stderr",
     "output_type": "stream",
     "text": [
      "Finding representations: 100%|██████████| 35/35 [00:14<00:00,  2.47it/s]"
     ]
    },
    {
     "name": "stdout",
     "output_type": "stream",
     "text": [
      "Representations stored in C:\\Users\\rishabh\\Documents\\major-project-2\\res\\database/representations_deepface.pkl file.Please delete this file when you add new identities in your database.\n",
      "find function lasts  14.382550477981567  seconds\n"
     ]
    },
    {
     "name": "stderr",
     "output_type": "stream",
     "text": [
      "\n"
     ]
    }
   ],
   "source": [
    "TEST_IMAGE = \"C:/Users/rishabh/Pictures/official stuff/rishabh.jpg\"\n",
    "output = [None]*3\n",
    "output[0] = DeepFace.find(img_path=TEST_IMAGE, db_path=os.environ.get('DB_DIR'), enforce_detection=False, model_name = models[0], distance_metric=metrics[2])\n",
    "output[1] = DeepFace.find(img_path=TEST_IMAGE, db_path=os.environ.get('DB_DIR'), enforce_detection=False, model_name = models[1], distance_metric=metrics[2])\n",
    "output[2] = DeepFace.find(img_path=TEST_IMAGE, db_path=os.environ.get('DB_DIR'), enforce_detection=False, model_name = models[2], distance_metric=metrics[2])"
   ]
  },
  {
   "cell_type": "code",
   "execution_count": 48,
   "metadata": {},
   "outputs": [
    {
     "name": "stdout",
     "output_type": "stream",
     "text": [
      "\n",
      "\n",
      "model-> 1\n",
      "                                            identity  source_x  source_y  \\\n",
      "0  C:\\Users\\rishabh\\Documents\\major-project-2\\res...        39        64   \n",
      "1  C:\\Users\\rishabh\\Documents\\major-project-2\\res...        39        64   \n",
      "2  C:\\Users\\rishabh\\Documents\\major-project-2\\res...        39        64   \n",
      "3  C:\\Users\\rishabh\\Documents\\major-project-2\\res...        39        64   \n",
      "4  C:\\Users\\rishabh\\Documents\\major-project-2\\res...        39        64   \n",
      "5  C:\\Users\\rishabh\\Documents\\major-project-2\\res...        39        64   \n",
      "6  C:\\Users\\rishabh\\Documents\\major-project-2\\res...        39        64   \n",
      "7  C:\\Users\\rishabh\\Documents\\major-project-2\\res...        39        64   \n",
      "8  C:\\Users\\rishabh\\Documents\\major-project-2\\res...        39        64   \n",
      "\n",
      "   source_w  source_h  Facenet512_euclidean_l2  \n",
      "0       208       208                 0.586682  \n",
      "1       208       208                 0.929954  \n",
      "2       208       208                 0.968721  \n",
      "3       208       208                 0.994896  \n",
      "4       208       208                 0.998527  \n",
      "5       208       208                 1.002599  \n",
      "6       208       208                 1.011779  \n",
      "7       208       208                 1.013675  \n",
      "8       208       208                 1.020575  \n",
      "\n",
      "\n",
      "model-> 2\n",
      "                                             identity  source_x  source_y  \\\n",
      "0   C:\\Users\\rishabh\\Documents\\major-project-2\\res...        39        64   \n",
      "1   C:\\Users\\rishabh\\Documents\\major-project-2\\res...        39        64   \n",
      "2   C:\\Users\\rishabh\\Documents\\major-project-2\\res...        39        64   \n",
      "3   C:\\Users\\rishabh\\Documents\\major-project-2\\res...        39        64   \n",
      "4   C:\\Users\\rishabh\\Documents\\major-project-2\\res...        39        64   \n",
      "5   C:\\Users\\rishabh\\Documents\\major-project-2\\res...        39        64   \n",
      "6   C:\\Users\\rishabh\\Documents\\major-project-2\\res...        39        64   \n",
      "7   C:\\Users\\rishabh\\Documents\\major-project-2\\res...        39        64   \n",
      "8   C:\\Users\\rishabh\\Documents\\major-project-2\\res...        39        64   \n",
      "9   C:\\Users\\rishabh\\Documents\\major-project-2\\res...        39        64   \n",
      "10  C:\\Users\\rishabh\\Documents\\major-project-2\\res...        39        64   \n",
      "11  C:\\Users\\rishabh\\Documents\\major-project-2\\res...        39        64   \n",
      "12  C:\\Users\\rishabh\\Documents\\major-project-2\\res...        39        64   \n",
      "13  C:\\Users\\rishabh\\Documents\\major-project-2\\res...        39        64   \n",
      "14  C:\\Users\\rishabh\\Documents\\major-project-2\\res...        39        64   \n",
      "15  C:\\Users\\rishabh\\Documents\\major-project-2\\res...        39        64   \n",
      "16  C:\\Users\\rishabh\\Documents\\major-project-2\\res...        39        64   \n",
      "17  C:\\Users\\rishabh\\Documents\\major-project-2\\res...        39        64   \n",
      "\n",
      "    source_w  source_h  VGG-Face_euclidean_l2  \n",
      "0        208       208               0.585186  \n",
      "1        208       208               0.704813  \n",
      "2        208       208               0.709666  \n",
      "3        208       208               0.722539  \n",
      "4        208       208               0.740705  \n",
      "5        208       208               0.757498  \n",
      "6        208       208               0.765811  \n",
      "7        208       208               0.783506  \n",
      "8        208       208               0.818124  \n",
      "9        208       208               0.827257  \n",
      "10       208       208               0.843350  \n",
      "11       208       208               0.843870  \n",
      "12       208       208               0.843956  \n",
      "13       208       208               0.850842  \n",
      "14       208       208               0.853239  \n",
      "15       208       208               0.855042  \n",
      "16       208       208               0.856906  \n",
      "17       208       208               0.858561  \n",
      "\n",
      "\n",
      "model-> 3\n",
      "                                             identity  source_x  source_y  \\\n",
      "0   C:\\Users\\rishabh\\Documents\\major-project-2\\res...        39        64   \n",
      "1   C:\\Users\\rishabh\\Documents\\major-project-2\\res...        39        64   \n",
      "2   C:\\Users\\rishabh\\Documents\\major-project-2\\res...        39        64   \n",
      "3   C:\\Users\\rishabh\\Documents\\major-project-2\\res...        39        64   \n",
      "4   C:\\Users\\rishabh\\Documents\\major-project-2\\res...        39        64   \n",
      "5   C:\\Users\\rishabh\\Documents\\major-project-2\\res...        39        64   \n",
      "6   C:\\Users\\rishabh\\Documents\\major-project-2\\res...        39        64   \n",
      "7   C:\\Users\\rishabh\\Documents\\major-project-2\\res...        39        64   \n",
      "8   C:\\Users\\rishabh\\Documents\\major-project-2\\res...        39        64   \n",
      "9   C:\\Users\\rishabh\\Documents\\major-project-2\\res...        39        64   \n",
      "10  C:\\Users\\rishabh\\Documents\\major-project-2\\res...        39        64   \n",
      "11  C:\\Users\\rishabh\\Documents\\major-project-2\\res...        39        64   \n",
      "12  C:\\Users\\rishabh\\Documents\\major-project-2\\res...        39        64   \n",
      "\n",
      "    source_w  source_h  DeepFace_euclidean_l2  \n",
      "0        208       208               0.515401  \n",
      "1        208       208               0.515744  \n",
      "2        208       208               0.523306  \n",
      "3        208       208               0.539333  \n",
      "4        208       208               0.543838  \n",
      "5        208       208               0.558673  \n",
      "6        208       208               0.562931  \n",
      "7        208       208               0.571647  \n",
      "8        208       208               0.577039  \n",
      "9        208       208               0.600228  \n",
      "10       208       208               0.605172  \n",
      "11       208       208               0.611335  \n",
      "12       208       208               0.631191  \n"
     ]
    }
   ],
   "source": [
    "# output is a list, so to better visualize it we convert it into a Panda DataFrame\n",
    "i=1\n",
    "for item in output:\n",
    "    output__unit = pd.DataFrame(item[0])\n",
    "    print(\"\\n\\nmodel-> \"+str(i))\n",
    "    i=i+1\n",
    "    print(output__unit)\n"
   ]
  },
  {
   "attachments": {},
   "cell_type": "markdown",
   "metadata": {},
   "source": [
    "Facial Verification"
   ]
  },
  {
   "cell_type": "code",
   "execution_count": 50,
   "metadata": {},
   "outputs": [
    {
     "name": "stdout",
     "output_type": "stream",
     "text": [
      "{'verified': True, 'distance': 0.0, 'threshold': 0.86, 'model': 'VGG-Face', 'detector_backend': 'opencv', 'similarity_metric': 'euclidean_l2', 'facial_areas': {'img1': {'x': 62, 'y': 171, 'w': 676, 'h': 676}, 'img2': {'x': 62, 'y': 171, 'w': 676, 'h': 676}}, 'time': 0.81}\n",
      "{'verified': False, 'distance': 1.0873191766315178, 'threshold': 0.86, 'model': 'VGG-Face', 'detector_backend': 'opencv', 'similarity_metric': 'euclidean_l2', 'facial_areas': {'img1': {'x': 62, 'y': 171, 'w': 676, 'h': 676}, 'img2': {'x': 159, 'y': 205, 'w': 742, 'h': 742}}, 'time': 0.95}\n",
      "{'verified': False, 'distance': 1.08283819141904, 'threshold': 0.86, 'model': 'VGG-Face', 'detector_backend': 'opencv', 'similarity_metric': 'euclidean_l2', 'facial_areas': {'img1': {'x': 62, 'y': 171, 'w': 676, 'h': 676}, 'img2': {'x': 36, 'y': 178, 'w': 606, 'h': 606}}, 'time': 0.8}\n",
      "{'verified': False, 'distance': 1.1356892821011348, 'threshold': 0.86, 'model': 'VGG-Face', 'detector_backend': 'opencv', 'similarity_metric': 'euclidean_l2', 'facial_areas': {'img1': {'x': 62, 'y': 171, 'w': 676, 'h': 676}, 'img2': {'x': 95, 'y': 178, 'w': 747, 'h': 747}}, 'time': 0.85}\n",
      "{'verified': False, 'distance': 1.1049575004037042, 'threshold': 0.86, 'model': 'VGG-Face', 'detector_backend': 'opencv', 'similarity_metric': 'euclidean_l2', 'facial_areas': {'img1': {'x': 62, 'y': 171, 'w': 676, 'h': 676}, 'img2': {'x': 84, 'y': 228, 'w': 850, 'h': 850}}, 'time': 0.92}\n",
      "{'verified': False, 'distance': 1.0441681796931428, 'threshold': 0.86, 'model': 'VGG-Face', 'detector_backend': 'opencv', 'similarity_metric': 'euclidean_l2', 'facial_areas': {'img1': {'x': 62, 'y': 171, 'w': 676, 'h': 676}, 'img2': {'x': 45, 'y': 207, 'w': 751, 'h': 751}}, 'time': 0.89}\n"
     ]
    }
   ],
   "source": [
    "imglist = os.listdir(\"../res/database/a/\")\n",
    "for img in imglist:\n",
    "    result1 = DeepFace.verify(img1_path=\"../res/database/a/a1.jpg\", img2_path=os.path.join(\"../res/database/a/\",img), distance_metric=metrics[2])\n",
    "    print(result1)"
   ]
  },
  {
   "attachments": {},
   "cell_type": "markdown",
   "metadata": {},
   "source": [
    "Face Extraction and Alignment"
   ]
  },
  {
   "cell_type": "code",
   "execution_count": 51,
   "metadata": {},
   "outputs": [
    {
     "name": "stdout",
     "output_type": "stream",
     "text": [
      "1/1 [==============================] - 0s 123ms/step\n",
      "1/1 [==============================] - 0s 73ms/step\n",
      "1/1 [==============================] - 0s 43ms/step\n",
      "1/1 [==============================] - 0s 32ms/step\n",
      "1/1 [==============================] - 0s 26ms/step\n",
      "1/1 [==============================] - 0s 14ms/step\n",
      "1/1 [==============================] - 0s 23ms/step\n",
      "1/1 [==============================] - 0s 23ms/step\n",
      "1/1 [==============================] - 0s 25ms/step\n",
      "1/1 [==============================] - 0s 67ms/step\n",
      "1/1 [==============================] - 0s 20ms/step\n",
      "1/1 [==============================] - 0s 19ms/step\n",
      "61/61 [==============================] - 0s 6ms/step\n",
      "3/3 [==============================] - 0s 19ms/step\n"
     ]
    }
   ],
   "source": [
    "face_objs = DeepFace.extract_faces(img_path = \"../../../Desktop/indian.jpg\", target_size = (224, 224), detector_backend = backends[2])\n",
    "for face in face_objs:\n",
    "    cv2.imshow(\"face\",face[\"face\"])\n",
    "    cv2.waitKey(0)\n",
    "cv2.destroyAllWindows()"
   ]
  },
  {
   "cell_type": "code",
   "execution_count": 52,
   "metadata": {},
   "outputs": [
    {
     "name": "stdout",
     "output_type": "stream",
     "text": [
      "facial recognition model Facenet512 is just built\n",
      "Age model is just built\n",
      "Gender model is just built\n",
      "Emotion model is just built\n",
      "WARNING: Representations for images in ../res/database/ folder were previously stored in representations_facenet512.pkl. If you added new instances after the creation, then please delete this file and call find function again. It will create it again.\n",
      "There are  35  representations found in  representations_facenet512.pkl\n",
      "find function lasts  0.11868166923522949  seconds\n"
     ]
    }
   ],
   "source": [
    "#live recognition\n",
    "DeepFace.stream(db_path=\"../res/database/\", model_name=models[0])"
   ]
  }
 ],
 "metadata": {
  "kernelspec": {
   "display_name": ".venv",
   "language": "python",
   "name": "python3"
  },
  "language_info": {
   "codemirror_mode": {
    "name": "ipython",
    "version": 3
   },
   "file_extension": ".py",
   "mimetype": "text/x-python",
   "name": "python",
   "nbconvert_exporter": "python",
   "pygments_lexer": "ipython3",
   "version": "3.11.0"
  },
  "orig_nbformat": 4,
  "vscode": {
   "interpreter": {
    "hash": "ef8ef938748ac2cbf12171a71497665c60da278a9cdef9c7810c86fd94a1e324"
   }
  }
 },
 "nbformat": 4,
 "nbformat_minor": 2
}
